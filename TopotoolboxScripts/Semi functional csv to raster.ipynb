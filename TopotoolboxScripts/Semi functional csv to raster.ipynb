{
 "cells": [
  {
   "cell_type": "code",
   "execution_count": 1,
   "id": "79a1b55c",
   "metadata": {},
   "outputs": [],
   "source": [
    "import pandas as pd\n",
    "import numpy as np\n",
    "from osgeo import gdal, osr\n",
    "from pyproj import Proj, transform\n",
    "import rasterio as rio\n",
    "from rasterio.transform import from_origin\n",
    "import math\n",
    "from scipy.interpolate import griddata\n",
    "from matplotlib import pyplot as plt"
   ]
  },
  {
   "cell_type": "code",
   "execution_count": 2,
   "id": "4c933feb",
   "metadata": {},
   "outputs": [],
   "source": [
    "data = pd.read_csv('../Model_Data_Patton_DATED/Barnes_eemian5_WGS_extract/Alta/Alta_B3C__2500_WGS.csv', header=None, names=['x','y','z'])"
   ]
  },
  {
   "cell_type": "code",
   "execution_count": 3,
   "id": "c6475778",
   "metadata": {},
   "outputs": [
    {
     "name": "stdout",
     "output_type": "stream",
     "text": [
      "           x        y       z\n",
      "0    23.1009  67.5428  2171.0\n",
      "1    23.2499  67.6128  2163.0\n",
      "2    23.3999  67.6826  2154.0\n",
      "3    23.5508  67.7523  2144.0\n",
      "4    23.7026  67.8217  2134.0\n",
      "..       ...      ...     ...\n",
      "801  22.4602  70.8289   687.0\n",
      "802  22.6323  70.8992   625.0\n",
      "803  22.8056  70.9693   563.0\n",
      "804  22.9801  71.0391   508.0\n",
      "805  23.1560  71.1088   455.0\n",
      "\n",
      "[806 rows x 3 columns]\n"
     ]
    }
   ],
   "source": [
    "print(data)"
   ]
  },
  {
   "cell_type": "code",
   "execution_count": 4,
   "id": "0ec7bc07",
   "metadata": {},
   "outputs": [
    {
     "data": {
      "text/plain": [
       "806"
      ]
     },
     "execution_count": 4,
     "metadata": {},
     "output_type": "execute_result"
    }
   ],
   "source": [
    "npdata = data.to_numpy()\n",
    "#print(npdata[:,2]) - z column\n",
    "len(npdata[:,2])"
   ]
  },
  {
   "cell_type": "code",
   "execution_count": 5,
   "id": "c8515bb8",
   "metadata": {},
   "outputs": [],
   "source": [
    "#reshape into array 31across by 26 vert\n",
    "rsLON = np.reshape(npdata[:,0],(31,26)) #LON\n",
    "rsLAT = np.reshape(npdata[:,1],(31,26)) #LAT\n",
    "rsz = np.reshape(npdata[:,2],(31,26))   #DATA"
   ]
  },
  {
   "cell_type": "code",
   "execution_count": 6,
   "id": "b4aaea72",
   "metadata": {},
   "outputs": [],
   "source": [
    "# flip rsz\n",
    "rsz = np.flip(rsz, axis=1)\n",
    "rsz = np.flip(rsz, axis=0)\n",
    "#rsz = np.flip(rsz, axis=1)"
   ]
  },
  {
   "cell_type": "code",
   "execution_count": 7,
   "id": "c6464131",
   "metadata": {},
   "outputs": [],
   "source": [
    "# Show three pandas dataframes - one for each value\n",
    "dfLON = pd.DataFrame(rsLON) # LONGITUDE\n",
    "dfLAT = pd.DataFrame(rsLAT) # LATITUDE\n",
    "dfz = pd.DataFrame(rsz)     # Z VALUE"
   ]
  },
  {
   "cell_type": "code",
   "execution_count": 8,
   "id": "d62cea2b",
   "metadata": {},
   "outputs": [
    {
     "name": "stdout",
     "output_type": "stream",
     "text": [
      "18.3948 67.5428 28.0 71.1088\n"
     ]
    }
   ],
   "source": [
    "xmin,ymin,xmax,ymax = [rsLON.min(),rsLAT.min(),rsLON.max(),rsLAT.max()]\n",
    "print(xmin, ymin, xmax, ymax)"
   ]
  },
  {
   "cell_type": "code",
   "execution_count": 9,
   "id": "dd0c50ce",
   "metadata": {},
   "outputs": [],
   "source": [
    "# Create new matrix\n",
    "NLON = np.linspace(xmin, xmax, math.ceil(10/0.16))\n",
    "NLAT = np.linspace(ymin, ymax, math.ceil(6/0.067))\n",
    "LonCo, LatCo = np.meshgrid(NLON, NLAT)\n",
    "LONflat = rsLON.flatten()\n",
    "LATflat = rsLAT.flatten()"
   ]
  },
  {
   "cell_type": "code",
   "execution_count": 10,
   "id": "0d56f779",
   "metadata": {},
   "outputs": [],
   "source": [
    "pts_arr = np.array([LONflat, LATflat]).T\n",
    "#pts_arr = np.array(rsLON, rsLAT)"
   ]
  },
  {
   "cell_type": "code",
   "execution_count": 11,
   "id": "44e38c4c",
   "metadata": {},
   "outputs": [],
   "source": [
    "# Scipy Griddata function\n",
    "out_tiff = griddata(pts_arr, rsz.flatten(), (LonCo, LatCo), method='nearest')\n",
    "out_tiff = np.flip(out_tiff, axis=1)"
   ]
  },
  {
   "cell_type": "code",
   "execution_count": 12,
   "id": "f9599731",
   "metadata": {},
   "outputs": [
    {
     "name": "stdout",
     "output_type": "stream",
     "text": [
      "        0       1       2       3       4       5       6       7       8   \\\n",
      "0   1084.0  1082.0  1082.0  1097.0  1113.0  1136.0  1141.0  1141.0  1129.0   \n",
      "1   1084.0  1084.0  1082.0  1097.0  1113.0  1136.0  1141.0  1141.0  1129.0   \n",
      "2   1084.0  1084.0  1082.0  1097.0  1113.0  1136.0  1136.0  1141.0  1129.0   \n",
      "3   1084.0  1084.0  1082.0  1097.0  1113.0  1136.0  1136.0  1141.0  1129.0   \n",
      "4   1110.0  1084.0  1082.0  1097.0  1113.0  1113.0  1136.0  1141.0  1129.0   \n",
      "..     ...     ...     ...     ...     ...     ...     ...     ...     ...   \n",
      "85  1252.0  1352.0  1477.0  1567.0  1567.0  1625.0  1684.0  1747.0  1747.0   \n",
      "86  1252.0  1352.0  1477.0  1567.0  1567.0  1625.0  1684.0  1747.0  1747.0   \n",
      "87  1352.0  1352.0  1477.0  1567.0  1567.0  1625.0  1684.0  1747.0  1747.0   \n",
      "88  1352.0  1352.0  1477.0  1567.0  1625.0  1625.0  1684.0  1747.0  1747.0   \n",
      "89  1352.0  1352.0  1477.0  1567.0  1625.0  1625.0  1684.0  1747.0  1802.0   \n",
      "\n",
      "        9   ...      53      54      55      56      57      58      59  \\\n",
      "0   1109.0  ...  1347.0  1347.0  1395.0  1429.0  1456.0  1456.0  1483.0   \n",
      "1   1109.0  ...  1347.0  1347.0  1395.0  1429.0  1456.0  1456.0  1483.0   \n",
      "2   1109.0  ...  1347.0  1347.0  1395.0  1429.0  1456.0  1456.0  1483.0   \n",
      "3   1109.0  ...  1347.0  1347.0  1395.0  1429.0  1456.0  1456.0  1483.0   \n",
      "4   1109.0  ...  1347.0  1347.0  1395.0  1429.0  1456.0  1456.0  1483.0   \n",
      "..     ...  ...     ...     ...     ...     ...     ...     ...     ...   \n",
      "85  1802.0  ...  1914.0  1891.0  1870.0  1848.0  1848.0  1824.0  1799.0   \n",
      "86  1802.0  ...  1914.0  1891.0  1870.0  1848.0  1848.0  1824.0  1799.0   \n",
      "87  1802.0  ...  1914.0  1891.0  1870.0  1870.0  1848.0  1824.0  1799.0   \n",
      "88  1802.0  ...  1914.0  1891.0  1870.0  1870.0  1848.0  1824.0  1799.0   \n",
      "89  1802.0  ...  1914.0  1891.0  1870.0  1870.0  1848.0  1824.0  1799.0   \n",
      "\n",
      "        60      61      62  \n",
      "0   1506.0  1506.0  1528.0  \n",
      "1   1506.0  1528.0  1528.0  \n",
      "2   1506.0  1528.0  1528.0  \n",
      "3   1506.0  1528.0  1528.0  \n",
      "4   1506.0  1528.0  1528.0  \n",
      "..     ...     ...     ...  \n",
      "85  1772.0  1746.0  1719.0  \n",
      "86  1772.0  1746.0  1746.0  \n",
      "87  1772.0  1746.0  1746.0  \n",
      "88  1772.0  1772.0  1746.0  \n",
      "89  1799.0  1772.0  1746.0  \n",
      "\n",
      "[90 rows x 63 columns]\n"
     ]
    }
   ],
   "source": [
    "OT = pd.DataFrame(out_tiff)\n",
    "print(OT)"
   ]
  },
  {
   "cell_type": "markdown",
   "id": "e0b234d3",
   "metadata": {},
   "source": [
    "### NEEDS EDITING"
   ]
  },
  {
   "cell_type": "code",
   "execution_count": 13,
   "id": "1bbc3cba",
   "metadata": {},
   "outputs": [],
   "source": [
    "# For each pixel I know it's latitude and longitude.\n",
    "# As you'll see below you only really need the coordinates of\n",
    "# one corner, and the resolution of the file.\n",
    "\n",
    "xmin,ymin,xmax,ymax = [LONflat.min(),LATflat.min(),LONflat.max(),LATflat.max()]\n",
    "nrows,ncols = np.shape(out_tiff)\n",
    "xres = (xmax-xmin)/float(ncols)\n",
    "yres = (ymax-ymin)/float(nrows)\n",
    "geotransform=(xmin,xres,0,ymax,0,-yres)   \n",
    "# That's (top left x, w-e pixel resolution, rotation (0 if North is up), \n",
    "#         top left y, rotation (0 if North is up), n-s pixel resolution)\n",
    "# I don't know why rotation is in twice???"
   ]
  },
  {
   "cell_type": "code",
   "execution_count": 14,
   "id": "809766cc",
   "metadata": {},
   "outputs": [],
   "source": [
    "#Writing \n",
    "output_raster = gdal.GetDriverByName('GTiff').Create('../Orientation_Proof_of_Concept/Alta_Rasters/Alta_B3C__2500_WGS.tif',ncols, nrows, 1 ,gdal.GDT_Float32)  # Open the file\n",
    "output_raster.SetGeoTransform(geotransform)  # Specify its coordinates\n",
    "output_raster.GetRasterBand(1).WriteArray(rsz)   # Writes my array to the raster\n",
    "srs = osr.SpatialReference()                 # Establish its coordinate encoding\n",
    "srs.ImportFromEPSG(4326)                     # This one specifies WGS84 lat long.\n",
    "                                           \n",
    "output_raster.SetProjection( srs.ExportToWkt() )   # Exports the coordinate system \n",
    "                                                   # to the file\n",
    "output_raster.GetRasterBand(1).WriteArray(out_tiff)   # Writes my array to the raster\n",
    "\n",
    "output_raster.FlushCache()"
   ]
  },
  {
   "cell_type": "code",
   "execution_count": 15,
   "id": "e67ae776",
   "metadata": {},
   "outputs": [
    {
     "data": {
      "text/plain": [
       "<matplotlib.image.AxesImage at 0x7f6a1a751270>"
      ]
     },
     "execution_count": 15,
     "metadata": {},
     "output_type": "execute_result"
    },
    {
     "data": {
      "image/png": "[encoded data removed]",
      "text/plain": [
       "<Figure size 432x288 with 1 Axes>"
      ]
     },
     "metadata": {
      "needs_background": "light"
     },
     "output_type": "display_data"
    }
   ],
   "source": [
    "plt.imshow(out_tiff)"
   ]
  },
  {
   "cell_type": "code",
   "execution_count": null,
   "id": "5b682ff6",
   "metadata": {},
   "outputs": [],
   "source": []
  }
 ],
 "metadata": {
  "kernelspec": {
   "display_name": "Python 3 (ipykernel)",
   "language": "python",
   "name": "python3"
  },
  "language_info": {
   "codemirror_mode": {
    "name": "ipython",
    "version": 3
   },
   "file_extension": ".py",
   "mimetype": "text/x-python",
   "name": "python",
   "nbconvert_exporter": "python",
   "pygments_lexer": "ipython3",
   "version": "3.10.2"
  }
 },
 "nbformat": 4,
 "nbformat_minor": 5
}
